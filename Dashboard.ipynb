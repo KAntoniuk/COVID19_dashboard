{
 "cells": [
  {
   "cell_type": "code",
   "execution_count": 6,
   "metadata": {},
   "outputs": [],
   "source": [
    "import time\n",
    "from uk_covid19 import Cov19API\n",
    "import ipywidgets as wdg\n",
    "import pandas as pd\n",
    "import numpy as np\n",
    "import matplotlib.pyplot as plt\n",
    "import json\n",
    "\n",
    "%matplotlib inline\n",
    "# make figures larger\n",
    "plt.rcParams['figure.dpi'] = 100"
   ]
  },
  {
   "cell_type": "code",
   "execution_count": 29,
   "metadata": {},
   "outputs": [
    {
     "name": "stdout",
     "output_type": "stream",
     "text": [
      "I'm downloading data from the API...\n",
      "API call finished succesfully\n"
     ]
    },
    {
     "data": {
      "application/vnd.jupyter.widget-view+json": {
       "model_id": "83073a68df914ccb8e7d5b3d483715e4",
       "version_major": 2,
       "version_minor": 0
      },
      "text/plain": [
       "Button(description='Refresh data', icon='download', style=ButtonStyle(), tooltip='Click to download current Pu…"
      ]
     },
     "metadata": {},
     "output_type": "display_data"
    }
   ],
   "source": [
    "# our API access function. This will be called by the button when it is clicked\n",
    "def access_api():  \n",
    "    filters1 = [\n",
    "        \"areaType=overview\"\n",
    "    ]\n",
    "\n",
    "    structure1 = {\n",
    "        \"date\": \"date\",\n",
    "        \"cases\": \"newCasesByPublishDate\",\n",
    "        \"hospital\": \"newAdmissions\",\n",
    "        \"deaths\": \"cumDeaths28DaysByDeathDateRate\",\n",
    "    }\n",
    "    \n",
    "    filters2 = [\n",
    "        'areaType=nation',\n",
    "        'areaName=England'\n",
    "    ]\n",
    "\n",
    "    structure2 = {\n",
    "        \"date\": \"date\",\n",
    "        \"hospital\": \"newAdmissions\",\n",
    "        \"ventilator\": \"covidOccupiedMVBeds\"\n",
    "    }\n",
    "\n",
    "    \n",
    "    filters3 = [\n",
    "        'areaType=region',\n",
    "        'areaName=London'\n",
    "    ]\n",
    "\n",
    "    structure3 = {\n",
    "        \"date\": \"date\",\n",
    "        \"deaths\": \"newDeaths28DaysByDeathDate\",\n",
    "        \"cases\": \"newCasesBySpecimenDate\"\n",
    "    }\n",
    "    \n",
    "    \n",
    "    api_overview = Cov19API(filters=filters1, structure=structure1)\n",
    "    overview = api_overview.get_json()\n",
    "    \n",
    "    time.sleep(1)\n",
    "    \n",
    "    api_ventilator = Cov19API(filters=filters2, structure=structure2)\n",
    "    ventilator = api_ventilator.get_json()\n",
    "    \n",
    "    time.sleep(1)\n",
    "    \n",
    "    api_london = Cov19API(filters=filters3, structure=structure3)\n",
    "    london_cases_deaths = api_london.get_json()\n",
    "\n",
    "    with open(\"overview.json\", \"wt\") as OUTF:\n",
    "        json.dump(overview, OUTF)\n",
    "\n",
    "    with open(\"ventilator.json\", \"wt\") as OUTF:\n",
    "        json.dump(ventilator, OUTF)\n",
    "\n",
    "    with open(\"london_cases_deaths.json\", \"wt\") as OUTF:\n",
    "        json.dump(london_cases_deaths, OUTF)\n",
    "\n",
    "\n",
    "\n",
    "    \n",
    "# see the doc for the parameters    \n",
    "apibutton=wdg.Button(\n",
    "    description='Refresh data',\n",
    "    disabled=False,\n",
    "    button_style='', # 'success', 'info', 'warning', 'danger' or ''\n",
    "    tooltip='Click to download current Public Health England data',\n",
    "    icon='download' # (FontAwesome names without the `fa-` prefix)\n",
    ")\n",
    "\n",
    "# register the callback function with the button\n",
    "apibutton.on_click(access_api())\n",
    "\n",
    "# this is an iPython function that generalises print for Jupyter Notebooks; we use it to \n",
    "# display the widgets\n",
    "display(apibutton)\n",
    "\n",
    "\n",
    "def parse_date(date_string):\n",
    "    ''' Convert a date string into a pandas datetime object '''\n",
    "    return pd.to_datetime(date_string, format=\"%Y-%m-%d\")\n",
    "\n",
    "\n",
    "def create_df1(file):\n",
    "    '''creates a pandas dataframe from a \"json\" dictionary from uk-covid19 API software development kit'''\n",
    "    with open(file, \"rt\") as INFILE:\n",
    "        data = json.load(INFILE)\n",
    "    data_list =data['data']\n",
    "    dates = [dictionary['date'] for dictionary in data_list]\n",
    "    dates.sort()\n",
    "    startdate = parse_date(dates[0])\n",
    "    enddate = parse_date(dates[-1])\n",
    "    \n",
    "    index = pd.date_range(startdate, enddate, freq = 'D')\n",
    "    df = pd.DataFrame(index=index, columns= ['cases', 'hospital','deaths'])\n",
    "    \n",
    "    for entry in data_list:\n",
    "        date = parse_date(entry['date'])\n",
    "        for column in ['cases', 'hospital', 'deaths']:\n",
    "            if pd.isna(df.loc[date, column]):\n",
    "                value = float(entry[column]) if entry[column] != None else 0.0\n",
    "                df.loc[date, column] = value\n",
    "                \n",
    "    df.fillna(0.0, inplace = True)\n",
    "    return df\n",
    "\n",
    "\n",
    "def create_df2(file):\n",
    "    '''creates a pandas dataframe from a \"json\" dictionary from uk-covid19 API software development kit'''\n",
    "    with open(file, \"rt\") as INFILE:\n",
    "        data = json.load(INFILE)\n",
    "    data_list =data['data']\n",
    "    dates = [dictionary['date'] for dictionary in data_list]\n",
    "    dates.sort()\n",
    "    startdate = parse_date(dates[0])\n",
    "    enddate = parse_date(dates[-1])\n",
    "    \n",
    "    index = pd.date_range(startdate, enddate, freq = 'D')\n",
    "    df = pd.DataFrame(index=index, columns= ['hospital','ventilator'])\n",
    "    \n",
    "    for entry in data_list:\n",
    "        date = parse_date(entry['date'])\n",
    "        for column in ['hospital','ventilator']:\n",
    "            if pd.isna(df.loc[date, column]):\n",
    "                value = float(entry[column]) if entry[column] != None else 0.0\n",
    "                df.loc[date, column] = value\n",
    "                \n",
    "    df.fillna(0.0, inplace = True)\n",
    "    return df\n",
    "\n",
    "\n",
    "def create_df3(file):\n",
    "    '''creates a pandas dataframe from a \"json\" dictionary from uk-covid19 API software development kit'''\n",
    "    with open(file, \"rt\") as INFILE:\n",
    "        data = json.load(INFILE)\n",
    "    data_list =data['data']\n",
    "    dates = [dictionary['date'] for dictionary in data_list]\n",
    "    dates.sort()\n",
    "    startdate = parse_date(dates[0])\n",
    "    enddate = parse_date(dates[-1])\n",
    "    \n",
    "    index = pd.date_range(startdate, enddate, freq = 'D')\n",
    "    df = pd.DataFrame(index=index, columns= ['deaths','cases'])\n",
    "    \n",
    "    for entry in data_list:\n",
    "        date = parse_date(entry['date'])\n",
    "        for column in ['deaths','cases']:\n",
    "            if pd.isna(df.loc[date, column]):\n",
    "                value = float(entry[column]) if entry[column] != None else 0.0\n",
    "                df.loc[date, column] = value\n",
    "                \n",
    "    df.fillna(0.0, inplace = True)\n",
    "    return df\n",
    "\n"
   ]
  },
  {
   "cell_type": "code",
   "execution_count": 30,
   "metadata": {},
   "outputs": [
    {
     "name": "stdout",
     "output_type": "stream",
     "text": [
      "ok\n"
     ]
    }
   ],
   "source": [
    "df1 = create_df1(\"overview.json\")\n",
    "df2 = create_df2(\"ventilator.json\")\n",
    "df3 = create_df3(\"london_cases_deaths.json\")"
   ]
  },
  {
   "cell_type": "code",
   "execution_count": 31,
   "metadata": {
    "scrolled": true
   },
   "outputs": [
    {
     "data": {
      "application/vnd.jupyter.widget-view+json": {
       "model_id": "8e887b7bf1c24c7bb2b1e865d0e35c97",
       "version_major": 2,
       "version_minor": 0
      },
      "text/plain": [
       "HBox(children=(SelectMultiple(description='Stats:', index=(0, 1, 2), options=('cases', 'hospital', 'deaths'), …"
      ]
     },
     "metadata": {},
     "output_type": "display_data"
    },
    {
     "data": {
      "application/vnd.jupyter.widget-view+json": {
       "model_id": "c6d7bd5d52e2422f82cbd76739a43e06",
       "version_major": 2,
       "version_minor": 0
      },
      "text/plain": [
       "Output()"
      ]
     },
     "metadata": {},
     "output_type": "display_data"
    },
    {
     "data": {
      "application/vnd.jupyter.widget-view+json": {
       "model_id": "f8251cb8ae244cd59ff631cdf4453a6c",
       "version_major": 2,
       "version_minor": 0
      },
      "text/plain": [
       "HBox(children=(SelectMultiple(description='Stats:', index=(0, 1), options=('hospital', 'ventilator'), rows=2, …"
      ]
     },
     "metadata": {},
     "output_type": "display_data"
    },
    {
     "data": {
      "application/vnd.jupyter.widget-view+json": {
       "model_id": "362d946061444484a0d78f41f373f794",
       "version_major": 2,
       "version_minor": 0
      },
      "text/plain": [
       "Output()"
      ]
     },
     "metadata": {},
     "output_type": "display_data"
    }
   ],
   "source": [
    "series1 = wdg.SelectMultiple(\n",
    "    options=['cases', 'hospital', 'deaths'],\n",
    "    value=['cases', 'hospital', 'deaths'],\n",
    "    rows=3,\n",
    "    description='Stats:',\n",
    "    disabled=False\n",
    ")\n",
    "\n",
    "scale1 = wdg.RadioButtons(\n",
    "    options=['linear', 'log'],\n",
    "    description='Scale:',\n",
    "    disabled=False\n",
    ")\n",
    "\n",
    "controls1 = wdg.HBox([series1, scale1])\n",
    "\n",
    "\n",
    "series2 = wdg.SelectMultiple(\n",
    "    options=['hospital', 'ventilator'],\n",
    "    value=['hospital', 'ventilator'],\n",
    "    rows=2,\n",
    "    description='Stats:',\n",
    "    disabled=False\n",
    ")\n",
    "\n",
    "scale2 = wdg.RadioButtons(\n",
    "    options=['linear', 'log'],\n",
    "    description='Scale:',\n",
    "    disabled=True\n",
    ")\n",
    "\n",
    "controls2 = wdg.HBox([series2, scale2])\n",
    "\n",
    "\n",
    "\n",
    "def overview_graph(gcols, gscale):\n",
    "    if gscale == 'linear':\n",
    "        logscale = False\n",
    "    else:\n",
    "        logscale = True\n",
    "    ncols = len(gcols)\n",
    "    if ncols > 0:\n",
    "        df1[list(gcols)].plot(logy=logscale)\n",
    "        print(\"(CTRL-Click to select more than one category)\")\n",
    "    else:\n",
    "        print(\"Click to select data for graph\")\n",
    "        print(\"(CTRL-Click to select more than one category)\")\n",
    "\n",
    "output_overview = wdg.interactive_output(overview_graph, {'gcols': series1, 'gscale': scale1})\n",
    "\n",
    "display(controls1, output_overview)\n",
    "\n",
    "\n",
    "def ventilator_graph(gcols, gscale):\n",
    "    if gscale == 'linear':\n",
    "        logscale = False\n",
    "    else:\n",
    "        logscale = True\n",
    "    ncols = len(gcols)\n",
    "    if ncols > 0:\n",
    "        df2[list(gcols)].plot(logy=logscale)\n",
    "        print(\"(CTRL-Click to select more than one category)\")\n",
    "    else:\n",
    "        print(\"Click to select data for graph\")\n",
    "        print(\"(CTRL-Click to select more than one category)\")\n",
    "\n",
    "output_ventilator = wdg.interactive_output(ventilator_graph, {'gcols': series2, 'gscale': scale2})\n",
    "\n",
    "display(controls2, output_ventilator)\n",
    "\n",
    "    \n",
    "    \n",
    "    \n",
    "\n"
   ]
  },
  {
   "cell_type": "code",
   "execution_count": null,
   "metadata": {},
   "outputs": [],
   "source": []
  },
  {
   "cell_type": "code",
   "execution_count": null,
   "metadata": {},
   "outputs": [],
   "source": []
  },
  {
   "cell_type": "code",
   "execution_count": null,
   "metadata": {},
   "outputs": [],
   "source": []
  },
  {
   "cell_type": "code",
   "execution_count": null,
   "metadata": {},
   "outputs": [],
   "source": []
  }
 ],
 "metadata": {
  "kernelspec": {
   "display_name": "Python 3",
   "language": "python",
   "name": "python3"
  },
  "language_info": {
   "codemirror_mode": {
    "name": "ipython",
    "version": 3
   },
   "file_extension": ".py",
   "mimetype": "text/x-python",
   "name": "python",
   "nbconvert_exporter": "python",
   "pygments_lexer": "ipython3",
   "version": "3.8.3"
  }
 },
 "nbformat": 4,
 "nbformat_minor": 4
}
