{
 "cells": [
  {
   "cell_type": "code",
   "execution_count": 1,
   "metadata": {},
   "outputs": [],
   "source": [
    "import time\n",
    "from uk_covid19 import Cov19API\n",
    "import ipywidgets as wdg\n",
    "import pandas as pd\n",
    "import numpy as np\n",
    "import matplotlib.pyplot as plt\n",
    "import json\n",
    "\n",
    "%matplotlib inline\n",
    "# make figures larger\n",
    "plt.rcParams['figure.dpi'] = 100"
   ]
  },
  {
   "cell_type": "markdown",
   "metadata": {},
   "source": [
    "## COVID-19 dashboard based on UK Government data published by Public Health England.\n",
    "\n",
    "### CTRL-Click to select more than one category"
   ]
  },
  {
   "cell_type": "code",
   "execution_count": 23,
   "metadata": {},
   "outputs": [
    {
     "data": {
      "application/vnd.jupyter.widget-view+json": {
       "model_id": "332a5377955d439f8e79b30c7ead7a9e",
       "version_major": 2,
       "version_minor": 0
      },
      "text/plain": [
       "Button(description='Refresh data', icon='download', style=ButtonStyle(), tooltip='Click to download current Pu…"
      ]
     },
     "metadata": {},
     "output_type": "display_data"
    }
   ],
   "source": [
    "# our API access function. This will be called by the button when it is clicked\n",
    "def access_api():  \n",
    "    filters1 = [\n",
    "        \"areaType=overview\"\n",
    "    ]\n",
    "\n",
    "    structure1 = {\n",
    "        \"date\": \"date\",\n",
    "        \"cases\": \"newCasesByPublishDate\",\n",
    "        \"hospital\": \"hospitalCases\",\n",
    "        \"deaths\": \"newDeaths28DaysByPublishDate\",\n",
    "    }\n",
    "    \n",
    "    filters2 = [\n",
    "        'areaType=nation',\n",
    "        'areaName=England'\n",
    "    ]\n",
    "\n",
    "    structure2 = {\n",
    "        \"date\": \"date\",\n",
    "        \"hospital\": \"hospitalCases\",\n",
    "        \"ventilator\": \"covidOccupiedMVBeds\"\n",
    "    }\n",
    "\n",
    "    \n",
    "    filters3 = [\n",
    "        'areaType=nation',\n",
    "        'areaName=England'\n",
    "    ]\n",
    "\n",
    "    structure3 = {\n",
    "        \"males\": \"maleCases\",\n",
    "        \"females\": \"femaleCases\"\n",
    "    }\n",
    "    \n",
    "    \n",
    "    api_overview = Cov19API(filters=filters1, structure=structure1)\n",
    "    overview = api_overview.get_json()\n",
    "    \n",
    "    time.sleep(1)\n",
    "    \n",
    "    api_ventilator = Cov19API(filters=filters2, structure=structure2)\n",
    "    ventilator = api_ventilator.get_json()\n",
    "    \n",
    "    time.sleep(1)\n",
    "    \n",
    "    api_age = Cov19API(filters=filters3, structure=structure3)\n",
    "    age = api_age.get_json()\n",
    "\n",
    "    with open(\"overview.json\", \"wt\") as OUTF:\n",
    "        json.dump(overview, OUTF)\n",
    "\n",
    "    with open(\"ventilator.json\", \"wt\") as OUTF:\n",
    "        json.dump(ventilator, OUTF)\n",
    "\n",
    "    with open(\"age.json\", \"wt\") as OUTF:\n",
    "        json.dump(age, OUTF)\n",
    "\n",
    "\n",
    "\n",
    "    \n",
    "# see the doc for the parameters    \n",
    "apibutton=wdg.Button(\n",
    "    description='Refresh data',\n",
    "    disabled=False,\n",
    "    button_style='', # 'success', 'info', 'warning', 'danger' or ''\n",
    "    tooltip='Click to download current Public Health England data',\n",
    "    icon='download' # (FontAwesome names without the `fa-` prefix)\n",
    ")\n",
    "\n",
    "# register the callback function with the button\n",
    "apibutton.on_click(access_api())\n",
    "\n",
    "# this is an iPython function that generalises print for Jupyter Notebooks; we use it to \n",
    "# display the widgets\n",
    "display(apibutton)\n",
    "\n",
    "\n",
    "def parse_date(date_string):\n",
    "    ''' Convert a date string into a pandas datetime object '''\n",
    "    return pd.to_datetime(date_string, format=\"%Y-%m-%d\")\n",
    "\n",
    "\n",
    "def create_df1(file):\n",
    "    '''creates a pandas dataframe from a \"json\" dictionary from uk-covid19 API software development kit'''\n",
    "    with open(file, \"rt\") as INFILE:\n",
    "        data = json.load(INFILE)\n",
    "    data_list =data['data']\n",
    "    dates = [dictionary['date'] for dictionary in data_list]\n",
    "    dates.sort()\n",
    "    startdate = parse_date(dates[0])\n",
    "    enddate = parse_date(dates[-1])\n",
    "    \n",
    "    index = pd.date_range(startdate, enddate, freq = 'D')\n",
    "    df = pd.DataFrame(index=index, columns= ['cases', 'hospital','deaths'])\n",
    "    \n",
    "    for entry in data_list:\n",
    "        date = parse_date(entry['date'])\n",
    "        for column in ['cases', 'hospital', 'deaths']:\n",
    "            if pd.isna(df.loc[date, column]):\n",
    "                value = float(entry[column]) if entry[column] != None else 0.0\n",
    "                df.loc[date, column] = value\n",
    "                \n",
    "    df.fillna(0.0, inplace = True)\n",
    "    return df\n",
    "\n",
    "\n",
    "def create_df2(file):\n",
    "    '''creates a pandas dataframe from a \"json\" dictionary from uk-covid19 API software development kit'''\n",
    "    with open(file, \"rt\") as INFILE:\n",
    "        data = json.load(INFILE)\n",
    "    data_list =data['data']\n",
    "    dates = [dictionary['date'] for dictionary in data_list]\n",
    "    dates.sort()\n",
    "    startdate = parse_date(dates[0])\n",
    "    enddate = parse_date(dates[-1])\n",
    "    \n",
    "    index = pd.date_range(startdate, enddate, freq = 'D')\n",
    "    df = pd.DataFrame(index=index, columns= ['hospital','ventilator'])\n",
    "    \n",
    "    for entry in data_list:\n",
    "        date = parse_date(entry['date'])\n",
    "        for column in ['hospital','ventilator']:\n",
    "            if pd.isna(df.loc[date, column]):\n",
    "                value = float(entry[column]) if entry[column] != None else 0.0\n",
    "                df.loc[date, column] = value\n",
    "                \n",
    "    df.fillna(0.0, inplace = True)\n",
    "    return df\n",
    "\n",
    "\n",
    "def create_df3(file):\n",
    "    '''creates a pandas dataframe from a \"json\" dictionary from uk-covid19 API software development kit'''\n",
    "    with open(file, \"rt\") as INFILE:\n",
    "        data = json.load(INFILE)\n",
    "    \n",
    "    datadic=data['data'][0]\n",
    "    males=datadic['males']\n",
    "    females=datadic['females']\n",
    "    \n",
    "    ageranges=[x['age'] for x in males]\n",
    "    \n",
    "    def min_age(agerange):\n",
    "        agerange=agerange.replace('+','') # remove the + from 90+\n",
    "        start=agerange.split('_')[0]\n",
    "        return int(start)\n",
    "\n",
    "    ageranges.sort(key=min_age)\n",
    "    \n",
    "    df=pd.DataFrame(index=ageranges, columns=['Males','Females', 'Total'])\n",
    "    \n",
    "    \n",
    "    for entry in males: \n",
    "        ageband=entry['age'] # our index position\n",
    "        df.loc[ageband, 'Males']=entry['value']\n",
    "    \n",
    "    for entry in females:\n",
    "        ageband=entry['age']\n",
    "        df.loc[ageband, 'Females']=entry['value']\n",
    "    \n",
    "    df['Total']=df['Males']+df['Females']\n",
    "    \n",
    "    \n",
    "    for entry in males: # each entry is a dictionary\n",
    "        ageband=entry['age'] # our index position\n",
    "        df.loc[ageband, 'Males']=entry['value']\n",
    "    \n",
    "    for entry in females:\n",
    "        ageband=entry['age']\n",
    "        df.loc[ageband, 'Females']=entry['value']\n",
    "    \n",
    "\n",
    "    df['Total']=df['Males']+df['Females']\n",
    "\n",
    "\n",
    "    \n",
    "    \n",
    "                \n",
    "    df.fillna(0.0, inplace = True)\n",
    "    return df\n",
    "\n"
   ]
  },
  {
   "cell_type": "code",
   "execution_count": 25,
   "metadata": {},
   "outputs": [],
   "source": [
    "df1 = create_df1(\"overview.json\")\n",
    "df2 = create_df2(\"ventilator.json\")\n",
    "df3 = create_df3(\"age.json\")"
   ]
  },
  {
   "cell_type": "code",
   "execution_count": 26,
   "metadata": {
    "scrolled": true
   },
   "outputs": [
    {
     "data": {
      "application/vnd.jupyter.widget-view+json": {
       "model_id": "03b0d08baab54c95b60c914207ddd1ab",
       "version_major": 2,
       "version_minor": 0
      },
      "text/plain": [
       "HBox(children=(SelectMultiple(description='Stats:', index=(0, 1, 2), options=('cases', 'hospital', 'deaths'), …"
      ]
     },
     "metadata": {},
     "output_type": "display_data"
    },
    {
     "data": {
      "application/vnd.jupyter.widget-view+json": {
       "model_id": "34699fd0368d449796c448300f6caab9",
       "version_major": 2,
       "version_minor": 0
      },
      "text/plain": [
       "Output()"
      ]
     },
     "metadata": {},
     "output_type": "display_data"
    },
    {
     "data": {
      "application/vnd.jupyter.widget-view+json": {
       "model_id": "12fe0aca1b3d4cc6857959ddc360e95b",
       "version_major": 2,
       "version_minor": 0
      },
      "text/plain": [
       "HBox(children=(SelectMultiple(description='Stats:', index=(0, 1), options=('hospital', 'ventilator'), rows=2, …"
      ]
     },
     "metadata": {},
     "output_type": "display_data"
    },
    {
     "data": {
      "application/vnd.jupyter.widget-view+json": {
       "model_id": "b5d3c2f032084d5b817a31f1ad4cd90b",
       "version_major": 2,
       "version_minor": 0
      },
      "text/plain": [
       "Output()"
      ]
     },
     "metadata": {},
     "output_type": "display_data"
    }
   ],
   "source": [
    "series1 = wdg.SelectMultiple(\n",
    "    options=['cases', 'hospital', 'deaths'],\n",
    "    value=['cases', 'hospital', 'deaths'],\n",
    "    rows=3,\n",
    "    description='Stats:',\n",
    "    disabled=False\n",
    ")\n",
    "\n",
    "scale1 = wdg.RadioButtons(\n",
    "    options=['linear', 'log'],\n",
    "    description='Scale:',\n",
    "    disabled=False\n",
    ")\n",
    "\n",
    "controls1 = wdg.HBox([series1, scale1])\n",
    "\n",
    "\n",
    "series2 = wdg.SelectMultiple(\n",
    "    options=['hospital', 'ventilator'],\n",
    "    value=['hospital', 'ventilator'],\n",
    "    rows=2,\n",
    "    description='Stats:',\n",
    "    disabled=False\n",
    ")\n",
    "\n",
    "scale2 = wdg.RadioButtons(\n",
    "    options=['linear', 'log'],\n",
    "    description='Scale:',\n",
    "    disabled=False\n",
    ")\n",
    "\n",
    "controls2 = wdg.HBox([series2, scale2])\n",
    "\n",
    "\n",
    "\n",
    "def overview_graph(gcols, gscale):\n",
    "    if gscale == 'linear':\n",
    "        logscale = False\n",
    "    else:\n",
    "        logscale = True\n",
    "    ncols = len(gcols)\n",
    "    if ncols > 0:\n",
    "        df1[list(gcols)].plot(logy=logscale, title=\"UK overview\")\n",
    "        \n",
    "    else:\n",
    "        print(\"Click to select data for graph\")\n",
    "        print(\"(CTRL-Click to select more than one category)\")\n",
    "\n",
    "output_overview = wdg.interactive_output(overview_graph, {'gcols': series1, 'gscale': scale1})\n",
    "\n",
    "display(controls1, output_overview)\n",
    "\n",
    "\n",
    "def ventilator_graph(gcols, gscale):\n",
    "    if gscale == 'linear':\n",
    "        logscale = False\n",
    "    else:\n",
    "        logscale = True\n",
    "    ncols = len(gcols)\n",
    "    if ncols > 0:\n",
    "        df2[list(gcols)].plot(logy=logscale, title=\"Occupied hospital beds and ventilators in England\")\n",
    "    else:\n",
    "        print(\"Click to select data for graph\")\n",
    "        print(\"(CTRL-Click to select more than one category)\")\n",
    "\n",
    "output_ventilator = wdg.interactive_output(ventilator_graph, {'gcols': series2, 'gscale': scale2})\n",
    "\n",
    "display(controls2, output_ventilator)\n",
    "\n",
    "    \n",
    "    \n",
    "    \n",
    "\n"
   ]
  },
  {
   "cell_type": "code",
   "execution_count": 30,
   "metadata": {},
   "outputs": [
    {
     "data": {
      "text/plain": [
       "Text(0, 0.5, 'Cases')"
      ]
     },
     "execution_count": 30,
     "metadata": {},
     "output_type": "execute_result"
    },
    {
     "data": {
      "image/png": "[encoded data removed]",
      "text/plain": [
       "<Figure size 600x400 with 1 Axes>"
      ]
     },
     "metadata": {},
     "output_type": "display_data"
    }
   ],
   "source": [
    "\n",
    "import seaborn as sns\n",
    "sns.set_style(\"dark\")\n",
    "df3.plot(kind='bar', y=['Males','Females','Total'])\n",
    "plt.title(\"North West Covid-19 Cases 2020 by Age and Gender\")\n",
    "plt.xlabel(\"Age\")\n",
    "plt.ylabel(\"Cases\")"
   ]
  },
  {
   "cell_type": "markdown",
   "metadata": {},
   "source": [
    "#### (C) 2021 Karol Antoniuk. Data from Public Health England."
   ]
  },
  {
   "cell_type": "code",
   "execution_count": null,
   "metadata": {},
   "outputs": [],
   "source": []
  }
 ],
 "metadata": {
  "kernelspec": {
   "display_name": "Python 3",
   "language": "python",
   "name": "python3"
  },
  "language_info": {
   "codemirror_mode": {
    "name": "ipython",
    "version": 3
   },
   "file_extension": ".py",
   "mimetype": "text/x-python",
   "name": "python",
   "nbconvert_exporter": "python",
   "pygments_lexer": "ipython3",
   "version": "3.8.3"
  }
 },
 "nbformat": 4,
 "nbformat_minor": 4
}
