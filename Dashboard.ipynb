{
 "cells": [
  {
   "cell_type": "code",
   "execution_count": 1,
   "metadata": {},
   "outputs": [],
   "source": [
    "import ipywidgets as wdg\n",
    "import pandas as pd\n",
    "import numpy as np\n",
    "import matplotlib.pyplot as plt\n",
    "import json\n",
    "from uk_covid19 import Cov19API\n",
    "\n",
    "%matplotlib inline\n",
    "# make figures larger\n",
    "plt.rcParams['figure.dpi'] = 100"
   ]
  },
  {
   "cell_type": "code",
   "execution_count": 2,
   "metadata": {},
   "outputs": [
    {
     "name": "stdout",
     "output_type": "stream",
     "text": [
      "Downloading data\n",
      "API call finished succesfully\n",
      "I'm downloading data from the API...\n",
      "...all done.\n"
     ]
    },
    {
     "data": {
      "application/vnd.jupyter.widget-view+json": {
       "model_id": "893e147e2f824855adea0e6591459b00",
       "version_major": 2,
       "version_minor": 0
      },
      "text/plain": [
       "Button(description='Refresh data', icon='download', style=ButtonStyle(), tooltip='Click to download current Pu…"
      ]
     },
     "metadata": {},
     "output_type": "display_data"
    }
   ],
   "source": [
    "# our API access function. This will be called by the button when it is clicked\n",
    "def access_api():  \n",
    "    \n",
    "    print(\"Downloading data\")\n",
    "    filters = [\n",
    "        \"areaType=overview\"\n",
    "    ]\n",
    "\n",
    "    structure = {\n",
    "        \"date\": \"date\",\n",
    "        \"cases\": \"newCasesByPublishDate\",\n",
    "        \"hospital\": \"newAdmissions\",\n",
    "        \"deaths\": \"cumDeaths28DaysByDeathDateRate\",\n",
    "    }\n",
    "\n",
    "    api = Cov19API(filters=filters, structure=structure)\n",
    "    overview = api.get_json()\n",
    "\n",
    "    filters = [\n",
    "        'areaType=nation',\n",
    "        'areaName=England'\n",
    "    ]\n",
    "\n",
    "    structure = {\n",
    "        \"males\": \"maleCases\",\n",
    "        \"females\": \"femaleCases\"\n",
    "    }\n",
    "\n",
    "    api = Cov19API(filters=filters, structure=structure)\n",
    "    agedistribution = api.get_json()\n",
    "\n",
    "    filters = [\n",
    "        'areaType=nation',\n",
    "        'areaName=England'\n",
    "    ]\n",
    "\n",
    "    structure = {\n",
    "        \"date\": \"date\",\n",
    "        \"newAdmissions\": \"newAdmissions\",\n",
    "        \"covidOccupiedMVBeds\": \"covidOccupiedMVBeds\"\n",
    "    }\n",
    "\n",
    "    api = Cov19API(filters=filters, structure=structure)\n",
    "    ventilator = api.get_json()\n",
    "\n",
    "    filters = [\n",
    "        'areaType=region',\n",
    "        'areaName=London'\n",
    "    ]\n",
    "\n",
    "    structure = {\n",
    "        \"date\": \"date\",\n",
    "        \"deaths\": \"newDeaths28DaysByDeathDate\",\n",
    "        \"cases\": \"newCasesBySpecimenDate\"\n",
    "    }\n",
    "\n",
    "    api = Cov19API(filters=filters, structure=structure)\n",
    "    london_cases_deaths = api.get_json()\n",
    "\n",
    "    with open(\"overview.json\", \"wt\") as OUTF:\n",
    "        json.dump(overview, OUTF)\n",
    "\n",
    "    with open(\"agedistribution.json\", \"wt\") as OUTF:\n",
    "        json.dump(agedistribution, OUTF)\n",
    "\n",
    "    with open(\"ventilator.json\", \"wt\") as OUTF:\n",
    "        json.dump(ventilator, OUTF)\n",
    "\n",
    "    with open(\"london_cases_deaths.json\", \"wt\") as OUTF:\n",
    "        json.dump(london_cases_deaths, OUTF)\n",
    "        \n",
    "    \n",
    "    print(\"API call finished succesfully\")\n",
    "\n",
    "    # Ignore the parameter, put code for polling the API here\n",
    "    print(\"I'm downloading data from the API...\")\n",
    "    print(\"...all done.\")\n",
    "    \n",
    "# see the doc for the parameters    \n",
    "apibutton=wdg.Button(\n",
    "    description='Refresh data',\n",
    "    disabled=False,\n",
    "    button_style='', # 'success', 'info', 'warning', 'danger' or ''\n",
    "    tooltip='Click to download current Public Health England data',\n",
    "    icon='download' # (FontAwesome names without the `fa-` prefix)\n",
    ")\n",
    "\n",
    "# register the callback function with the button\n",
    "apibutton.on_click(access_api())\n",
    "\n",
    "# this is an iPython function that generalises print for Jupyter Notebooks; we use it to \n",
    "# display the widgets\n",
    "display(apibutton)\n"
   ]
  },
  {
   "cell_type": "code",
   "execution_count": 3,
   "metadata": {},
   "outputs": [
    {
     "name": "stdout",
     "output_type": "stream",
     "text": [
      "2020-01-31 00:00:00  to  2021-07-25 00:00:00\n",
      "              cases  hospital  deaths\n",
      "2020-01-31      2.0       0.0     0.0\n",
      "2020-02-01      0.0       0.0     0.0\n",
      "2020-02-02      0.0       0.0     0.0\n",
      "2020-02-03      0.0       0.0     0.0\n",
      "2020-02-04      0.0       0.0     0.0\n",
      "...             ...       ...     ...\n",
      "2021-07-21  44104.0       0.0   193.2\n",
      "2021-07-22  39906.0       0.0   193.3\n",
      "2021-07-23  36389.0       0.0   193.3\n",
      "2021-07-24  31795.0       0.0     0.0\n",
      "2021-07-25  29173.0       0.0     0.0\n",
      "\n",
      "[542 rows x 3 columns]\n"
     ]
    },
    {
     "data": {
      "application/vnd.jupyter.widget-view+json": {
       "model_id": "f4817668f97b45e290e86b852d49fb8c",
       "version_major": 2,
       "version_minor": 0
      },
      "text/plain": [
       "HBox(children=(SelectMultiple(description='Stats:', index=(0, 1, 2), options=('cases', 'hospital', 'deaths'), …"
      ]
     },
     "metadata": {},
     "output_type": "display_data"
    },
    {
     "data": {
      "application/vnd.jupyter.widget-view+json": {
       "model_id": "1983f62c90ad41cc946d5ed414c9605a",
       "version_major": 2,
       "version_minor": 0
      },
      "text/plain": [
       "Output()"
      ]
     },
     "metadata": {},
     "output_type": "display_data"
    }
   ],
   "source": [
    "with open(\"overview.json\", \"rt\") as INF:\n",
    "        overview_json=json.load(INF)\n",
    "\n",
    "datalist = overview_json[\"data\"]\n",
    "\n",
    "dates = [dictionary[\"date\"] for dictionary in datalist]\n",
    "dates.sort()\n",
    "\n",
    "def parse_date(datestring):\n",
    "    return pd.to_datetime(datestring, format=\"%Y-%m-%d\")\n",
    "\n",
    "startdate=parse_date(dates[0])\n",
    "enddate=parse_date(dates[-1])\n",
    "print (startdate, ' to ', enddate)\n",
    "\n",
    "index=pd.date_range(startdate, enddate, freq='D')\n",
    "overviewdf=pd.DataFrame(index=index, columns=['cases', 'hospital', 'deaths'])\n",
    "\n",
    "\n",
    "for entry in datalist: # each entry is a dictionary with date, cases, hospital and deaths\n",
    "    date=parse_date(entry['date'])\n",
    "    for column in ['cases', 'hospital', 'deaths']:\n",
    "        # check that nothing is there yet - just in case some dates are duplicated,\n",
    "        # maybe with data for different columns in each entry\n",
    "        if pd.isna(overviewdf.loc[date, column]): \n",
    "            # replace None with 0 in our data \n",
    "            value= float(entry[column]) if entry[column]!=None else 0.0\n",
    "            # this is the way you access a specific location in the dataframe - use .loc\n",
    "            # and put index,column in a single set of [ ]\n",
    "            overviewdf.loc[date, column]=value\n",
    "            \n",
    "# fill in any remaining \"holes\" due to missing dates\n",
    "overviewdf.fillna(0.0, inplace=True)\n",
    "            \n",
    "overviewdf\n",
    "print(overviewdf)\n",
    "\n",
    "overviewdf.to_pickle(\"overviewdf.pkl\")\n",
    "overviewdf = pd.read_pickle(\"overviewdf.pkl\")\n",
    "\n",
    "series = wdg.SelectMultiple(\n",
    "    options=['cases', 'hospital', 'deaths'],\n",
    "    value=['cases', 'hospital', 'deaths'],\n",
    "    rows=3,\n",
    "    description='Stats:',\n",
    "    disabled=False\n",
    ")\n",
    "\n",
    "scale = wdg.RadioButtons(\n",
    "    options=['linear', 'log'],\n",
    "    description='Scale:',\n",
    "    disabled=False\n",
    ")\n",
    "\n",
    "controls = wdg.HBox([series, scale])\n",
    "\n",
    "\n",
    "\n",
    "def overview_graph(gcols, gscale):\n",
    "    if gscale == 'linear':\n",
    "        logscale = False\n",
    "    else:\n",
    "        logscale = True\n",
    "    ncols = len(gcols)\n",
    "    if ncols > 0:\n",
    "        overviewdf[list(gcols)].plot(logy=logscale)\n",
    "    else:\n",
    "        print(\"Click to select data for graph\")\n",
    "        print(\"(CTRL-Click to select more than one category)\")\n",
    "\n",
    "output_overview = wdg.interactive_output(overview_graph, {'gcols': series, 'gscale': scale})\n",
    "\n",
    "display(controls, output_overview)\n",
    "\n"
   ]
  },
  {
   "cell_type": "code",
   "execution_count": null,
   "metadata": {},
   "outputs": [],
   "source": []
  },
  {
   "cell_type": "code",
   "execution_count": null,
   "metadata": {},
   "outputs": [],
   "source": []
  },
  {
   "cell_type": "code",
   "execution_count": null,
   "metadata": {},
   "outputs": [],
   "source": []
  },
  {
   "cell_type": "code",
   "execution_count": null,
   "metadata": {},
   "outputs": [],
   "source": []
  }
 ],
 "metadata": {
  "kernelspec": {
   "display_name": "Python 3",
   "language": "python",
   "name": "python3"
  },
  "language_info": {
   "codemirror_mode": {
    "name": "ipython",
    "version": 3
   },
   "file_extension": ".py",
   "mimetype": "text/x-python",
   "name": "python",
   "nbconvert_exporter": "python",
   "pygments_lexer": "ipython3",
   "version": "3.8.3"
  }
 },
 "nbformat": 4,
 "nbformat_minor": 4
}
